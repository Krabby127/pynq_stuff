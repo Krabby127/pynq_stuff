{
 "cells": [
  {
   "cell_type": "markdown",
   "metadata": {},
   "source": [
    "# This be our title"
   ]
  },
  {
   "cell_type": "code",
   "execution_count": null,
   "metadata": {},
   "outputs": [],
   "source": [
    "import speech_recognition as sr\n",
    "from os import path\n",
    "\n",
    "    \n",
    "\n",
    "    \n",
    "import time\n",
    "import numpy as np\n",
    "import sys\n",
    "\n",
    "# audio = p.audio.record(5)\n",
    "r = sr.Recognizer()\n",
    "my_list = []\n",
    "exit = 0\n",
    "# with audio_en = r.get_raw_data(\"/home/xilinx/pynq/lib/tests/pynq_welcome.pcm\")\n",
    "while 1:\n",
    "#     pAudio.record(1)\n",
    "#     pAudio.save(\"/home/xilinx/pynq/lib/tests/pynq_welcome.pdm\")\n",
    "    \n",
    "#     with sr.AudioFile(\"/home/xilinx/speech_recognition/tests/english.wav\") as source:\n",
    "    with sr.AudioFile(\"/home/xilinx/stuff.wav\") as source:\n",
    "        audio_en = r.record(source)\n",
    "    # print(r.recognize_sphinx(audio_en))\n",
    "    my_string = r.recognize_google(audio_en)\n",
    "    print (\"my_string = \",my_string)\n",
    "    if not my_string:\n",
    "        continue\n",
    "    \n",
    "    my_list = my_string.split()\n",
    "\n",
    "    for i in my_list:\n",
    "        # DO OPERATION\n",
    "        if i == \"forward\":\n",
    "            print(\"FORWARDS MARCH!\")\n",
    "            ## DO FORWARD\n",
    "        elif i == \"backwards\":\n",
    "            print(\"FORWARDS MARCH!\")\n",
    "            ## DO BACKWARDS\n",
    "        elif i == \"left\":\n",
    "            print(\"BACK IT UP Y'ALL!\")\n",
    "            ## DO LEFT\n",
    "        elif i == \"right\":\n",
    "            print(\"RIGHT FLANK!\")\n",
    "            ## DO RIGHT\n",
    "        elif i == \"stop\":\n",
    "            print(\"STOPPING!\")\n",
    "            ## stop\n",
    "        elif i == \"exit\":\n",
    "            print(\"EXIT!\")\n",
    "            sys.exit(-1)\n",
    "            \n",
    "\n",
    "print(my_string) "
   ]
  }
 ],
 "metadata": {
  "kernelspec": {
   "display_name": "Python 3",
   "language": "python",
   "name": "python3"
  },
  "language_info": {
   "codemirror_mode": {
    "name": "ipython",
    "version": 3
   },
   "file_extension": ".py",
   "mimetype": "text/x-python",
   "name": "python",
   "nbconvert_exporter": "python",
   "pygments_lexer": "ipython3",
   "version": "3.6.0"
  }
 },
 "nbformat": 4,
 "nbformat_minor": 2
}

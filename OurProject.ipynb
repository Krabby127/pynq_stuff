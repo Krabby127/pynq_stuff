{
 "cells": [
  {
   "cell_type": "markdown",
   "metadata": {},
   "source": [
    "# This be our title"
   ]
  },
  {
   "cell_type": "code",
   "execution_count": null,
   "metadata": {},
   "outputs": [
    {
     "name": "stdout",
     "output_type": "stream",
     "text": [
      "Recognized \" forward left backwards right stop exit \"\n",
      "FORWARDS MARCH!\n",
      "LEFT FLANK!\n",
      "BACK IT UP Y'ALL!\n"
     ]
    }
   ],
   "source": [
    "# import motor as my_motor\n",
    "from motor import motor\n",
    "import speech_recognition as sr\n",
    "from os import path\n",
    "\n",
    "    \n",
    "import time\n",
    "import numpy as np\n",
    "import sys\n",
    "\n",
    "from pynq.overlays.base import BaseOverlay\n",
    "base = BaseOverlay(\"base.bit\")\n",
    "pAudio = base.audio\n",
    "pAudio.load(\"/home/xilinx/stuff.wav\")\n",
    "pAudio.play()\n",
    "\n",
    "# audio = p.audio.record(5)\n",
    "my_motor = motor()\n",
    "r = sr.Recognizer()\n",
    "my_list = []\n",
    "exit = 0\n",
    "# with audio_en = r.get_raw_data(\"/home/xilinx/pynq/lib/tests/pynq_welcome.pcm\")\n",
    "exit_done = 0\n",
    "default_duration = 10\n",
    "while not exit_done:\n",
    "#     pAudio.record(1)\n",
    "#     pAudio.save(\"/home/xilinx/pynq/lib/tests/pynq_welcome.pdm\")\n",
    "    \n",
    "#     with sr.AudioFile(\"/home/xilinx/speech_recognition/tests/english.wav\") as source:\n",
    "    with sr.AudioFile(\"/home/xilinx/stuff.wav\") as source:\n",
    "        audio_en = r.record(source)\n",
    "#     my_string = r.recognize_sphinx(audio_en)\n",
    "    my_string = r.recognize_google(audio_en)\n",
    "    print (\"Recognized \\\"\",my_string,\"\\\"\")\n",
    "    if not my_string:\n",
    "        continue\n",
    "    \n",
    "    my_list = my_string.split()\n",
    "\n",
    "    for i in my_list:\n",
    "        # DO OPERATION\n",
    "        if i == \"forward\":\n",
    "            print(\"FORWARDS MARCH!\")\n",
    "            my_motor.forward(default_duration)\n",
    "            ## DO FORWARD\n",
    "        elif i == \"backwards\":\n",
    "            print(\"BACK IT UP Y'ALL!\")\n",
    "            my_motor.backward(default_duration)\n",
    "            ## DO BACKWARDS\n",
    "        elif i == \"left\":\n",
    "            print(\"LEFT FLANK!\")\n",
    "            my_motor.turn_left(default_duration)\n",
    "            ## DO LEFT\n",
    "        elif i == \"right\":\n",
    "            print(\"RIGHT FLANK!\")\n",
    "            my_motor.turn_right(default_duration)\n",
    "            ## DO RIGHT\n",
    "        elif i == \"stop\":\n",
    "            print(\"STOPPING!\")\n",
    "            ## stop\n",
    "        elif i == \"exit\":\n",
    "            print(\"EXIT!\")\n",
    "            exit_done=1\n",
    "        else:\n",
    "            print(\"Unrecognized\")\n",
    "\n",
    "print(my_string) "
   ]
  },
  {
   "cell_type": "code",
   "execution_count": null,
   "metadata": {},
   "outputs": [],
   "source": []
  }
 ],
 "metadata": {
  "kernelspec": {
   "display_name": "Python 3",
   "language": "python",
   "name": "python3"
  },
  "language_info": {
   "codemirror_mode": {
    "name": "ipython",
    "version": 3
   },
   "file_extension": ".py",
   "mimetype": "text/x-python",
   "name": "python",
   "nbconvert_exporter": "python",
   "pygments_lexer": "ipython3",
   "version": "3.6.0"
  }
 },
 "nbformat": 4,
 "nbformat_minor": 2
}
